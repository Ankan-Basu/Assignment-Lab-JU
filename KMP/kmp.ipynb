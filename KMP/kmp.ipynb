{
 "cells": [
  {
   "cell_type": "code",
   "execution_count": 2,
   "metadata": {},
   "outputs": [],
   "source": [
    "x = 'jghjghkjk'"
   ]
  },
  {
   "cell_type": "code",
   "execution_count": 3,
   "metadata": {},
   "outputs": [],
   "source": [
    "y = 'hjhjk'"
   ]
  },
  {
   "cell_type": "code",
   "execution_count": 1,
   "metadata": {},
   "outputs": [],
   "source": [
    "# def kmp_matcher(text, pattern):\n",
    "#     N = len(text)\n",
    "#     M = len(pattern)\n",
    "#     lps_arr = compute_lps(pattern)\n",
    "\n",
    "#     # compute_lps_arr = compute_lps(pattern, M, lps_arr)\n",
    "#     # print(lps_arr)\n",
    "#     i = j = 0\n",
    "\n",
    "#     while i < N-M+1:\n",
    "#         print('j', j)\n",
    "#         if text[i] == pattern[j]:\n",
    "#             i += 1\n",
    "#             j += 1\n",
    "#         else:\n",
    "#             if j != 0:\n",
    "#                 j = lps_arr[j-1]\n",
    "#             else:\n",
    "#                 i += 1\n",
    "\n",
    "#         if j == M:\n",
    "#             print(i-j)\n",
    "#             j = lps_arr[j-1]"
   ]
  },
  {
   "cell_type": "code",
   "execution_count": 2,
   "metadata": {},
   "outputs": [],
   "source": [
    "# def compute_lps(pattern, M, lps_arr):\n",
    "#     len = 0\n",
    "#     i = 1\n",
    "#     lps_arr[0] = 0\n",
    "\n",
    "#     while i < M:\n",
    "#         if pattern[i] == pattern[len]:\n",
    "#             lps_arr[i] = len + 1\n",
    "#             len += 1\n",
    "#             i += 1\n",
    "#         else:\n",
    "#             if len != 0:\n",
    "#                 len = lps_arr[len - 1]\n",
    "#             else:\n",
    "#                 lps_arr[i] = 0\n",
    "#                 i += 1"
   ]
  },
  {
   "cell_type": "code",
   "execution_count": 3,
   "metadata": {},
   "outputs": [],
   "source": [
    "def compute_lps(pattern):\n",
    "    M = len(pattern)\n",
    "    lps = [0 for _ in range(M)]\n",
    "    curr_len = 0\n",
    "    i = 1\n",
    "\n",
    "    while i < M:\n",
    "        if pattern[curr_len] == pattern[i]:\n",
    "            curr_len += 1\n",
    "            lps[i] = curr_len\n",
    "            i += 1\n",
    "        else:\n",
    "            if curr_len > 0: \n",
    "                # i.e. this will keep executing (due to outer loop) till curr_len becomes 0\n",
    "                curr_len = lps[curr_len - 1]\n",
    "            else:\n",
    "                # i.e. when curr_len has become 0\n",
    "                lps[i] = 0\n",
    "                i += 1\n",
    "\n",
    "    return lps"
   ]
  },
  {
   "cell_type": "code",
   "execution_count": null,
   "metadata": {},
   "outputs": [],
   "source": []
  },
  {
   "cell_type": "code",
   "execution_count": 5,
   "metadata": {},
   "outputs": [],
   "source": []
  },
  {
   "cell_type": "code",
   "execution_count": 7,
   "metadata": {},
   "outputs": [],
   "source": [
    "def kmp_search(text, pattern):\n",
    "    n = len(text)\n",
    "    m = len(pattern)\n",
    "    lps = compute_lps(pattern)\n",
    "\n",
    "    result = []\n",
    "    i = j = 0\n",
    "\n",
    "    while i < n:\n",
    "        if pattern[j] == text[i]:\n",
    "            i += 1\n",
    "            j += 1\n",
    "\n",
    "        if j == m:\n",
    "            result.append(i - j)\n",
    "            j = lps[j - 1]\n",
    "\n",
    "        elif i < n and pattern[j] != text[i]:\n",
    "            if j != 0:\n",
    "                j = lps[j - 1]\n",
    "            else:\n",
    "                i += 1\n",
    "\n",
    "    return result"
   ]
  },
  {
   "cell_type": "code",
   "execution_count": 14,
   "metadata": {},
   "outputs": [],
   "source": [
    "text = 'onionionspl'"
   ]
  },
  {
   "cell_type": "code",
   "execution_count": 19,
   "metadata": {},
   "outputs": [],
   "source": [
    "pat = 'onion'"
   ]
  },
  {
   "cell_type": "code",
   "execution_count": 20,
   "metadata": {},
   "outputs": [
    {
     "data": {
      "text/plain": [
       "[0, 3]"
      ]
     },
     "execution_count": 20,
     "metadata": {},
     "output_type": "execute_result"
    }
   ],
   "source": [
    "kmp_search(text, pat)"
   ]
  },
  {
   "cell_type": "code",
   "execution_count": null,
   "metadata": {},
   "outputs": [],
   "source": []
  }
 ],
 "metadata": {
  "kernelspec": {
   "display_name": "Python 3",
   "language": "python",
   "name": "python3"
  },
  "language_info": {
   "codemirror_mode": {
    "name": "ipython",
    "version": 3
   },
   "file_extension": ".py",
   "mimetype": "text/x-python",
   "name": "python",
   "nbconvert_exporter": "python",
   "pygments_lexer": "ipython3",
   "version": "3.11.5"
  },
  "orig_nbformat": 4
 },
 "nbformat": 4,
 "nbformat_minor": 2
}
