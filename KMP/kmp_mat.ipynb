{
 "cells": [
  {
   "cell_type": "code",
   "execution_count": 1,
   "metadata": {},
   "outputs": [],
   "source": [
    "def compute_lps(pattern):\n",
    "    M = len(pattern) #sq matrix MxM\n",
    "    lps = [0 for _ in range(M)]\n",
    "    curr_len = 0\n",
    "    i = 1\n",
    "\n",
    "    while i < M:\n",
    "        if compare_column(pattern, pattern, curr_len, i):\n",
    "            curr_len += 1\n",
    "            lps[i] = curr_len\n",
    "            i += 1\n",
    "        else:\n",
    "            if curr_len > 0: \n",
    "                # i.e. this will keep executing (due to outer loop) till curr_len becomes 0\n",
    "                curr_len = lps[curr_len - 1]\n",
    "            else:\n",
    "                # i.e. when curr_len has become 0\n",
    "                lps[i] = 0\n",
    "                i += 1\n",
    "\n",
    "    return lps"
   ]
  },
  {
   "cell_type": "code",
   "execution_count": 2,
   "metadata": {},
   "outputs": [],
   "source": [
    "def compare_column(arr1, arr2, indx1, indx2, text_offset=0):\n",
    "    n = len(arr1) # arr1 -> pattern\n",
    "    matched = True\n",
    "\n",
    "    for i in range(n):\n",
    "        if arr1[i][indx1] != arr2[text_offset+i][indx2]:\n",
    "            matched = False\n",
    "            break\n",
    "\n",
    "    return matched"
   ]
  },
  {
   "cell_type": "code",
   "execution_count": 3,
   "metadata": {},
   "outputs": [],
   "source": [
    "def kmp_search(text, pattern):\n",
    "    n = len(text)\n",
    "    m = len(pattern)\n",
    "    lps = compute_lps(pattern)\n",
    "    tot_res = []\n",
    "\n",
    "    for row in range(n-m+1):\n",
    "        result = []\n",
    "        i = j = 0\n",
    "        while i < n:\n",
    "            if compare_column(pattern, text, j, i, row):\n",
    "                i += 1\n",
    "                j += 1\n",
    "\n",
    "            if j == m:\n",
    "                result.append(i - j)\n",
    "                j = lps[j - 1]\n",
    "\n",
    "            elif i < n and not compare_column(pattern, text, j, i, row):\n",
    "                if j != 0:\n",
    "                    j = lps[j - 1]\n",
    "                else:\n",
    "                    i += 1\n",
    "        tot_res.append(result)\n",
    "    return tot_res"
   ]
  },
  {
   "cell_type": "code",
   "execution_count": 4,
   "metadata": {},
   "outputs": [],
   "source": [
    "pat = [[1,2,1],\n",
    "    [3,1,3],\n",
    "    [0,0,0]]"
   ]
  },
  {
   "cell_type": "code",
   "execution_count": 5,
   "metadata": {},
   "outputs": [],
   "source": [
    "text = [\n",
    "    [0,1,2,1,2,1],\n",
    "    [3,3,1,3,1,3],\n",
    "    [0,0,0,0,0,0],\n",
    "    [1,2,1,1,2,1],\n",
    "    [3,1,3,3,1,3],\n",
    "    [0,0,0,0,0,0]\n",
    "    ]"
   ]
  },
  {
   "cell_type": "code",
   "execution_count": 6,
   "metadata": {},
   "outputs": [
    {
     "data": {
      "text/plain": [
       "[[1, 3], [], [], [0, 3]]"
      ]
     },
     "execution_count": 6,
     "metadata": {},
     "output_type": "execute_result"
    }
   ],
   "source": [
    "kmp_search(text, pat)"
   ]
  },
  {
   "cell_type": "code",
   "execution_count": 7,
   "metadata": {},
   "outputs": [
    {
     "data": {
      "text/plain": [
       "True"
      ]
     },
     "execution_count": 7,
     "metadata": {},
     "output_type": "execute_result"
    }
   ],
   "source": [
    "compare_column(pat, pat, 0, 2)"
   ]
  },
  {
   "cell_type": "code",
   "execution_count": 23,
   "metadata": {},
   "outputs": [
    {
     "data": {
      "text/plain": [
       "[0, 0, 0, 1, 2]"
      ]
     },
     "execution_count": 23,
     "metadata": {},
     "output_type": "execute_result"
    }
   ],
   "source": [
    "compute_lps(pat)"
   ]
  },
  {
   "cell_type": "code",
   "execution_count": null,
   "metadata": {},
   "outputs": [],
   "source": []
  }
 ],
 "metadata": {
  "kernelspec": {
   "display_name": "Python 3",
   "language": "python",
   "name": "python3"
  },
  "language_info": {
   "codemirror_mode": {
    "name": "ipython",
    "version": 3
   },
   "file_extension": ".py",
   "mimetype": "text/x-python",
   "name": "python",
   "nbconvert_exporter": "python",
   "pygments_lexer": "ipython3",
   "version": "3.11.5"
  },
  "orig_nbformat": 4
 },
 "nbformat": 4,
 "nbformat_minor": 2
}
